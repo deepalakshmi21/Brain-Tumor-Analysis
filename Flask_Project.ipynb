{
  "nbformat": 4,
  "nbformat_minor": 0,
  "metadata": {
    "colab": {
      "name": "Flask Project.ipynb",
      "provenance": [],
      "include_colab_link": true
    },
    "kernelspec": {
      "name": "python3",
      "display_name": "Python 3"
    },
    "accelerator": "GPU"
  },
  "cells": [
    {
      "cell_type": "markdown",
      "metadata": {
        "id": "view-in-github",
        "colab_type": "text"
      },
      "source": [
        "<a href=\"https://colab.research.google.com/github/deepalakshmi21/Brain-Tumor-Analysis/blob/master/Flask_Project.ipynb\" target=\"_parent\"><img src=\"https://colab.research.google.com/assets/colab-badge.svg\" alt=\"Open In Colab\"/></a>"
      ]
    },
    {
      "cell_type": "code",
      "metadata": {
        "id": "VCbkBwqjAshw",
        "colab_type": "code",
        "colab": {
          "base_uri": "https://localhost:8080/",
          "height": 221
        },
        "outputId": "638b4868-0a12-45bc-8795-7fb8d273c8ba"
      },
      "source": [
        "!pip install flask-ngrok"
      ],
      "execution_count": null,
      "outputs": [
        {
          "output_type": "stream",
          "text": [
            "Requirement already satisfied: flask-ngrok in /usr/local/lib/python3.6/dist-packages (0.0.25)\n",
            "Requirement already satisfied: requests in /usr/local/lib/python3.6/dist-packages (from flask-ngrok) (2.23.0)\n",
            "Requirement already satisfied: Flask>=0.8 in /usr/local/lib/python3.6/dist-packages (from flask-ngrok) (1.1.2)\n",
            "Requirement already satisfied: chardet<4,>=3.0.2 in /usr/local/lib/python3.6/dist-packages (from requests->flask-ngrok) (3.0.4)\n",
            "Requirement already satisfied: idna<3,>=2.5 in /usr/local/lib/python3.6/dist-packages (from requests->flask-ngrok) (2.9)\n",
            "Requirement already satisfied: certifi>=2017.4.17 in /usr/local/lib/python3.6/dist-packages (from requests->flask-ngrok) (2020.4.5.2)\n",
            "Requirement already satisfied: urllib3!=1.25.0,!=1.25.1,<1.26,>=1.21.1 in /usr/local/lib/python3.6/dist-packages (from requests->flask-ngrok) (1.24.3)\n",
            "Requirement already satisfied: Jinja2>=2.10.1 in /usr/local/lib/python3.6/dist-packages (from Flask>=0.8->flask-ngrok) (2.11.2)\n",
            "Requirement already satisfied: Werkzeug>=0.15 in /usr/local/lib/python3.6/dist-packages (from Flask>=0.8->flask-ngrok) (1.0.1)\n",
            "Requirement already satisfied: click>=5.1 in /usr/local/lib/python3.6/dist-packages (from Flask>=0.8->flask-ngrok) (7.1.2)\n",
            "Requirement already satisfied: itsdangerous>=0.24 in /usr/local/lib/python3.6/dist-packages (from Flask>=0.8->flask-ngrok) (1.1.0)\n",
            "Requirement already satisfied: MarkupSafe>=0.23 in /usr/local/lib/python3.6/dist-packages (from Jinja2>=2.10.1->Flask>=0.8->flask-ngrok) (1.1.1)\n"
          ],
          "name": "stdout"
        }
      ]
    },
    {
      "cell_type": "code",
      "metadata": {
        "id": "jpPmCRztA-tj",
        "colab_type": "code",
        "colab": {
          "base_uri": "https://localhost:8080/",
          "height": 187
        },
        "outputId": "3e502592-2d57-47d2-a5ce-c340f222d6c6"
      },
      "source": [
        "from flask_ngrok import run_with_ngrok\n",
        "from flask import Flask\n",
        "app = Flask(__name__)\n",
        "run_with_ngrok(app)   #starts ngrok when the app is run\n",
        "@app.route(\"/\")\n",
        "def home():\n",
        "    return \"\"\"\n",
        "    <!DOCTYPE html>\n",
        "<html lang=\"en\">\n",
        "<head>\n",
        "  <title>Brain tumor analysis</title>\n",
        "  <meta charset=\"utf-8\">\n",
        "  <meta name=\"viewport\" content=\"width=device-width, initial-scale=1\">\n",
        "  <link rel=\"stylesheet\" href=\"https://maxcdn.bootstrapcdn.com/bootstrap/3.4.1/css/bootstrap.min.css\">\n",
        "  <script src=\"https://ajax.googleapis.com/ajax/libs/jquery/3.4.1/jquery.min.js\"></script>\n",
        "  <link rel=\"stylesheet\" href=\"https://cdnjs.cloudflare.com/ajax/libs/font-awesome/4.7.0/css/font-awesome.min.css\">\n",
        "  <script src=\"https://maxcdn.bootstrapcdn.com/bootstrap/3.4.1/js/bootstrap.min.js\"></script>\n",
        "</head>\n",
        "<body>\n",
        "\n",
        "<nav class=\"navbar navbar-inverse\">\n",
        "  <div class=\"container-fluid\">\n",
        "    <div class=\"navbar-header\">\n",
        "      <a class=\"navbar-brand\" href=\"#\">Brain tumor analysis</a>\n",
        "    </div>\n",
        "    <ul class=\"nav navbar-nav\">\n",
        "      <li class=\"active\"><a href=\"#\">Home</a></li>\n",
        "      <li class=\"dropdown\"><a class=\"dropdown-toggle\" data-toggle=\"dropdown\" href=\"#\">CNN Models<span class=\"caret\"></span></a>\n",
        "        <ul class=\"dropdown-menu\">\n",
        "          <li><a href=\"https://colab.research.google.com/drive/1kwsByc3why2MfbE6PGA7Y-Rv9bIZ0mZs\">VGG Model</a></li>\n",
        "          <li><a href=\"https://colab.research.google.com/drive/15TSSYtSqnrmow3OihK8O0zyxvv1LUwFz#scrollTo=J9EtL3CDO0I2\">Sequential Model</a></li>\n",
        "          \n",
        "        </ul>\n",
        "      </li>\n",
        "      <li><a href=\"https://colab.research.google.com/drive/1OhulC-qwNegZzDoXNbASgID8tAHX5_ye\">ROC Curve</a></li>\n",
        "      \n",
        "    </ul>\n",
        "  </div>\n",
        "</nav>\n",
        " \n",
        "<div class=\"text-center container\">\n",
        "  <h1>Brain Tumor Analysis </h1><br>\n",
        "  <h3>We are the ambassador of medical detection.</h3><br>\n",
        "  <h4>Brain tumor analysis plays a vital role in detecting the tumored cells of the brain.Magnetic resonance imaging is being used extensively for their detection.We are using various convolutional neural network models for their detection.Some of the models that we are using include vgg 16 and sequential model.We predict and produce the results with high accuracy and less loss.</h4><br><br>\n",
        "</div>\n",
        "<button type=\"button\" class=\"btn btn-outline-dark btn-lg\"> <a href=\"https://colab.research.google.com/drive/15TSSYtSqnrmow3OihK8O0zyxvv1LUwFz#scrollTo=J9EtL3CDO0I2\">Sequential Model</a></button>\n",
        "\n",
        "<i class=\"fa fa-heartbeat\" style=\"font-size:60px;color:black;\"></i>\n",
        "<button type=\"button\" class=\"btn btn-outline-dark btn-lg\"><a href=\"https://colab.research.google.com/drive/1kwsByc3why2MfbE6PGA7Y-Rv9bIZ0mZs\">VGG 16 Model</a></button>\n",
        "</body>\n",
        "</html>\n",
        "    \"\"\"\n",
        "  \n",
        "app.run()"
      ],
      "execution_count": null,
      "outputs": [
        {
          "output_type": "stream",
          "text": [
            " * Serving Flask app \"__main__\" (lazy loading)\n",
            " * Environment: production\n",
            "\u001b[31m   WARNING: This is a development server. Do not use it in a production deployment.\u001b[0m\n",
            "\u001b[2m   Use a production WSGI server instead.\u001b[0m\n",
            " * Debug mode: off\n"
          ],
          "name": "stdout"
        },
        {
          "output_type": "stream",
          "text": [
            " * Running on http://127.0.0.1:5000/ (Press CTRL+C to quit)\n"
          ],
          "name": "stderr"
        },
        {
          "output_type": "stream",
          "text": [
            " * Running on http://e4b856091976.ngrok.io\n",
            " * Traffic stats available on http://127.0.0.1:4040\n"
          ],
          "name": "stdout"
        },
        {
          "output_type": "stream",
          "text": [
            "127.0.0.1 - - [18/Jun/2020 10:45:53] \"\u001b[37mGET / HTTP/1.1\u001b[0m\" 200 -\n",
            "127.0.0.1 - - [18/Jun/2020 10:45:55] \"\u001b[33mGET /favicon.ico HTTP/1.1\u001b[0m\" 404 -\n"
          ],
          "name": "stderr"
        }
      ]
    },
    {
      "cell_type": "code",
      "metadata": {
        "id": "NI_hfl5SBDBT",
        "colab_type": "code",
        "colab": {}
      },
      "source": [
        ""
      ],
      "execution_count": null,
      "outputs": []
    }
  ]
}