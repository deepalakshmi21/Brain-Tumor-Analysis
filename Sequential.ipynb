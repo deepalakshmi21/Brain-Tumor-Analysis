{
  "nbformat": 4,
  "nbformat_minor": 0,
  "metadata": {
    "colab": {
      "name": "Sequential",
      "provenance": [],
      "authorship_tag": "ABX9TyMoxXyn46VjRisI5nbqPGhi",
      "include_colab_link": true
    },
    "kernelspec": {
      "name": "python3",
      "display_name": "Python 3"
    }
  },
  "cells": [
    {
      "cell_type": "markdown",
      "metadata": {
        "id": "view-in-github",
        "colab_type": "text"
      },
      "source": [
        "<a href=\"https://colab.research.google.com/github/deepalakshmi21/Brain-Tumor-Analysis/blob/master/Sequential.ipynb\" target=\"_parent\"><img src=\"https://colab.research.google.com/assets/colab-badge.svg\" alt=\"Open In Colab\"/></a>"
      ]
    },
    {
      "cell_type": "code",
      "metadata": {
        "id": "J9EtL3CDO0I2",
        "colab_type": "code",
        "colab": {}
      },
      "source": [
        "import tensorflow as tf\n",
        "from tensorflow.keras import layers\n",
        "from tensorflow.keras import preprocessing\n",
        "from tensorflow.keras import models\n",
        "from tensorflow.keras.layers import Conv2D\n",
        "from tensorflow.keras.layers import Dense\n",
        "from tensorflow.keras.layers import Flatten\n",
        "from tensorflow.keras.preprocessing import image\n",
        "from tensorflow.keras.layers import MaxPooling2D\n",
        "from tensorflow.keras.models import Sequential\n",
        "import numpy as np"
      ],
      "execution_count": null,
      "outputs": []
    },
    {
      "cell_type": "code",
      "metadata": {
        "id": "MNX3yixeO5oi",
        "colab_type": "code",
        "colab": {
          "base_uri": "https://localhost:8080/",
          "height": 92
        },
        "outputId": "518852e5-3acb-4c01-80cd-d6486a450c0f"
      },
      "source": [
        "classifier = Sequential()\n",
        "\n",
        "classifier.add(Conv2D(32, (3, 3), input_shape=(224, 224, 3),\n",
        "               activation='relu'))\n",
        "\n",
        "classifier.add(MaxPooling2D(pool_size=(2, 2)))\n",
        "\n",
        "classifier.add(Conv2D(32, (3, 3), activation='relu'))\n",
        "classifier.add(MaxPooling2D(pool_size=(2, 2)))\n",
        "classifier.add(Flatten())\n",
        "\n",
        "classifier.add(Dense(units=128, activation='relu'))\n",
        "classifier.add(Dense(units=2, activation='sigmoid'))"
      ],
      "execution_count": null,
      "outputs": [
        {
          "output_type": "stream",
          "text": [
            "WARNING:tensorflow:From /usr/local/lib/python3.6/dist-packages/tensorflow_core/python/ops/resource_variable_ops.py:1630: calling BaseResourceVariable.__init__ (from tensorflow.python.ops.resource_variable_ops) with constraint is deprecated and will be removed in a future version.\n",
            "Instructions for updating:\n",
            "If using Keras pass *_constraint arguments to layers.\n"
          ],
          "name": "stdout"
        }
      ]
    },
    {
      "cell_type": "code",
      "metadata": {
        "id": "m6P332R6PGAo",
        "colab_type": "code",
        "colab": {}
      },
      "source": [
        "from tensorflow.keras.preprocessing.image import ImageDataGenerator"
      ],
      "execution_count": null,
      "outputs": []
    },
    {
      "cell_type": "code",
      "metadata": {
        "id": "dUKRPdStPKG0",
        "colab_type": "code",
        "colab": {
          "base_uri": "https://localhost:8080/",
          "height": 128
        },
        "outputId": "0fae0561-a825-4f4c-96a2-bbc8754c8ffc"
      },
      "source": [
        "from google.colab import drive\n",
        "drive.mount('/content/drive')"
      ],
      "execution_count": null,
      "outputs": [
        {
          "output_type": "stream",
          "text": [
            "Go to this URL in a browser: https://accounts.google.com/o/oauth2/auth?client_id=947318989803-6bn6qk8qdgf4n4g3pfee6491hc0brc4i.apps.googleusercontent.com&redirect_uri=urn%3aietf%3awg%3aoauth%3a2.0%3aoob&response_type=code&scope=email%20https%3a%2f%2fwww.googleapis.com%2fauth%2fdocs.test%20https%3a%2f%2fwww.googleapis.com%2fauth%2fdrive%20https%3a%2f%2fwww.googleapis.com%2fauth%2fdrive.photos.readonly%20https%3a%2f%2fwww.googleapis.com%2fauth%2fpeopleapi.readonly\n",
            "\n",
            "Enter your authorization code:\n",
            "··········\n",
            "Mounted at /content/drive\n"
          ],
          "name": "stdout"
        }
      ]
    },
    {
      "cell_type": "code",
      "metadata": {
        "id": "LWCO8eF8PRv-",
        "colab_type": "code",
        "colab": {
          "base_uri": "https://localhost:8080/",
          "height": 35
        },
        "outputId": "c30c056c-21e6-4be4-ffa6-cc9ed78ac75a"
      },
      "source": [
        "train_datagen=ImageDataGenerator(rescale=1. / 255, shear_range=0.2,\n",
        "        zoom_range=0.2, horizontal_flip=True)\n",
        "train_generator=train_datagen.flow_from_directory('drive/My Drive/Datasets/', # this is where you specify the path to the main data folder\n",
        "                                                 target_size=(224,224),\n",
        "                                                 color_mode='rgb',\n",
        "                                                 batch_size=32,\n",
        "                                                 class_mode='categorical',\n",
        "                                                 shuffle=True)"
      ],
      "execution_count": null,
      "outputs": [
        {
          "output_type": "stream",
          "text": [
            "Found 510 images belonging to 2 classes.\n"
          ],
          "name": "stdout"
        }
      ]
    },
    {
      "cell_type": "code",
      "metadata": {
        "id": "iHWcZiYgPlyC",
        "colab_type": "code",
        "colab": {
          "base_uri": "https://localhost:8080/",
          "height": 72
        },
        "outputId": "4d537869-6345-4165-de4f-7f8e686e013f"
      },
      "source": [
        "print(train_generator.n)\n",
        "print(train_generator.batch_size)\n",
        "print(253//32)"
      ],
      "execution_count": null,
      "outputs": [
        {
          "output_type": "stream",
          "text": [
            "510\n",
            "32\n",
            "7\n"
          ],
          "name": "stdout"
        }
      ]
    },
    {
      "cell_type": "code",
      "metadata": {
        "id": "-A63R0bGPrv9",
        "colab_type": "code",
        "colab": {
          "base_uri": "https://localhost:8080/",
          "height": 92
        },
        "outputId": "c0cb7e25-bdfe-42a5-911a-5e9f1366b1f1"
      },
      "source": [
        "classifier.compile(optimizer='Adam',\n",
        "              loss='binary_crossentropy',\n",
        "              metrics=['accuracy'])"
      ],
      "execution_count": null,
      "outputs": [
        {
          "output_type": "stream",
          "text": [
            "WARNING:tensorflow:From /usr/local/lib/python3.6/dist-packages/tensorflow_core/python/ops/nn_impl.py:183: where (from tensorflow.python.ops.array_ops) is deprecated and will be removed in a future version.\n",
            "Instructions for updating:\n",
            "Use tf.where in 2.0, which has the same broadcast rule as np.where\n"
          ],
          "name": "stdout"
        }
      ]
    },
    {
      "cell_type": "code",
      "metadata": {
        "id": "s4ZZWi1pPvMT",
        "colab_type": "code",
        "colab": {
          "base_uri": "https://localhost:8080/",
          "height": 745
        },
        "outputId": "6486131c-e84d-40a6-8eb3-7a7c0848fb4e"
      },
      "source": [
        "step_size_train=train_generator.n//train_generator.batch_size\n",
        "r = classifier.fit_generator(generator=train_generator,\n",
        "                   steps_per_epoch=step_size_train,\n",
        "                   epochs=20)"
      ],
      "execution_count": null,
      "outputs": [
        {
          "output_type": "stream",
          "text": [
            "Epoch 1/20\n",
            "15/15 [==============================] - 152s 10s/step - loss: 0.8162 - acc: 0.4979\n",
            "Epoch 2/20\n",
            "15/15 [==============================] - 37s 2s/step - loss: 0.6993 - acc: 0.4414\n",
            "Epoch 3/20\n",
            "15/15 [==============================] - 29s 2s/step - loss: 0.6933 - acc: 0.4875\n",
            "Epoch 4/20\n",
            "15/15 [==============================] - 29s 2s/step - loss: 0.6930 - acc: 0.5252\n",
            "Epoch 5/20\n",
            "15/15 [==============================] - 29s 2s/step - loss: 0.6931 - acc: 0.5104\n",
            "Epoch 6/20\n",
            "15/15 [==============================] - 29s 2s/step - loss: 0.6931 - acc: 0.5063\n",
            "Epoch 7/20\n",
            "15/15 [==============================] - 29s 2s/step - loss: 0.6931 - acc: 0.5042\n",
            "Epoch 8/20\n",
            "15/15 [==============================] - 29s 2s/step - loss: 0.6929 - acc: 0.5146\n",
            "Epoch 9/20\n",
            "15/15 [==============================] - 29s 2s/step - loss: 0.6931 - acc: 0.5084\n",
            "Epoch 10/20\n",
            "15/15 [==============================] - 28s 2s/step - loss: 0.6928 - acc: 0.5167\n",
            "Epoch 11/20\n",
            "15/15 [==============================] - 29s 2s/step - loss: 0.6934 - acc: 0.4958\n",
            "Epoch 12/20\n",
            "15/15 [==============================] - 28s 2s/step - loss: 0.6922 - acc: 0.5375\n",
            "Epoch 13/20\n",
            "15/15 [==============================] - 28s 2s/step - loss: 0.6936 - acc: 0.4916\n",
            "Epoch 14/20\n",
            "15/15 [==============================] - 28s 2s/step - loss: 0.6927 - acc: 0.5188\n",
            "Epoch 15/20\n",
            "15/15 [==============================] - 28s 2s/step - loss: 0.6934 - acc: 0.4979\n",
            "Epoch 16/20\n",
            "15/15 [==============================] - 28s 2s/step - loss: 0.6931 - acc: 0.5084\n",
            "Epoch 17/20\n",
            "15/15 [==============================] - 28s 2s/step - loss: 0.6930 - acc: 0.5105\n",
            "Epoch 18/20\n",
            "15/15 [==============================] - 29s 2s/step - loss: 0.6933 - acc: 0.4979\n",
            "Epoch 19/20\n",
            "15/15 [==============================] - 29s 2s/step - loss: 0.6926 - acc: 0.5251\n",
            "Epoch 20/20\n",
            "15/15 [==============================] - 29s 2s/step - loss: 0.6931 - acc: 0.5083\n"
          ],
          "name": "stdout"
        }
      ]
    },
    {
      "cell_type": "code",
      "metadata": {
        "id": "dSjsaQH8PyNI",
        "colab_type": "code",
        "colab": {
          "base_uri": "https://localhost:8080/",
          "height": 313
        },
        "outputId": "45293129-3a83-4471-ef02-cf1c8ff7e51f"
      },
      "source": [
        "import matplotlib.pyplot as plt\n",
        "print(r.history.keys())\n",
        "# Loss\n",
        "plt.plot(r.history['loss'])\n",
        "plt.title('model loss')\n",
        "plt.ylabel('loss')\n",
        "plt.xlabel('epoch')\n",
        "plt.show()"
      ],
      "execution_count": null,
      "outputs": [
        {
          "output_type": "stream",
          "text": [
            "dict_keys(['loss', 'acc'])\n"
          ],
          "name": "stdout"
        },
        {
          "output_type": "display_data",
          "data": {
            "image/png": "[encoded data removed]",
            "text/plain": [
              "<Figure size 432x288 with 1 Axes>"
            ]
          },
          "metadata": {
            "tags": []
          }
        }
      ]
    },
    {
      "cell_type": "code",
      "metadata": {
        "id": "Dol-Eo4VSo71",
        "colab_type": "code",
        "colab": {
          "base_uri": "https://localhost:8080/",
          "height": 295
        },
        "outputId": "7390b038-97c7-406f-c1d8-ba161db9a634"
      },
      "source": [
        "plt.plot(r.history['acc'])\n",
        "plt.title('model accuracy')\n",
        "plt.ylabel('acc')\n",
        "plt.xlabel('epoch')\n",
        "plt.show()"
      ],
      "execution_count": null,
      "outputs": [
        {
          "output_type": "display_data",
          "data": {
            "image/png": "[encoded data removed]",
            "text/plain": [
              "<Figure size 432x288 with 1 Axes>"
            ]
          },
          "metadata": {
            "tags": []
          }
        }
      ]
    },
    {
      "cell_type": "code",
      "metadata": {
        "id": "Msggx1CvXL0J",
        "colab_type": "code",
        "colab": {}
      },
      "source": [
        "from tensorflow.keras.models import load_model"
      ],
      "execution_count": null,
      "outputs": []
    },
    {
      "cell_type": "code",
      "metadata": {
        "id": "WNkKRUbrXTm8",
        "colab_type": "code",
        "colab": {}
      },
      "source": [
        "import tensorflow as tf\n",
        "from tensorflow.keras.preprocessing import image\n",
        "import numpy as np\n",
        "from tensorflow.keras.applications.vgg16 import preprocess_input\n",
        "from tensorflow.keras.models import load_model"
      ],
      "execution_count": null,
      "outputs": []
    },
    {
      "cell_type": "code",
      "metadata": {
        "id": "6Jz-XZfFYIrf",
        "colab_type": "code",
        "colab": {}
      },
      "source": [
        "img_path = 'drive/My Drive/Datasets/testing set/tumor/000437.png'"
      ],
      "execution_count": null,
      "outputs": []
    },
    {
      "cell_type": "code",
      "metadata": {
        "id": "BxtrTGRYYMTV",
        "colab_type": "code",
        "colab": {}
      },
      "source": [
        "img = image.load_img(img_path,target_size=(224,224))\n",
        "x= image.img_to_array(img)\n",
        "x = np.expand_dims(x,axis=0)\n",
        "img_data = preprocess_input(x)"
      ],
      "execution_count": null,
      "outputs": []
    },
    {
      "cell_type": "code",
      "metadata": {
        "id": "yr6uVeJyYSiR",
        "colab_type": "code",
        "colab": {}
      },
      "source": [
        ""
      ],
      "execution_count": null,
      "outputs": []
    }
  ]
}